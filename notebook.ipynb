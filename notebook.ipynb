{
 "cells": [
  {
   "cell_type": "code",
   "execution_count": 1,
   "id": "2eb5e2f9-4a19-4fdf-b320-ef9b920f5911",
   "metadata": {},
   "outputs": [],
   "source": [
    "%load_ext autoreload\n",
    "%autoreload 2"
   ]
  },
  {
   "cell_type": "code",
   "execution_count": 4,
   "id": "9dfa1674-113f-4a90-bfb4-d668dd75df40",
   "metadata": {},
   "outputs": [
    {
     "data": {
      "application/vnd.jupyter.widget-view+json": {
       "model_id": "2dbf3afde498498187c02200d6b10722",
       "version_major": 2,
       "version_minor": 1
      },
      "text/plain": [
       "Slider2D(height=300, max_x=10.0, min_x=0.0, min_y=0.0, width=300)"
      ]
     },
     "execution_count": 4,
     "metadata": {},
     "output_type": "execute_result"
    }
   ],
   "source": [
    "from wigglystuff import Slider2D\n",
    "\n",
    "slider = Slider2D(min_y=0, min_x=0, max_x=10)\n",
    "slider"
   ]
  },
  {
   "cell_type": "code",
   "execution_count": 7,
   "id": "937314d6-25ed-4e0a-978e-7633a5629bb2",
   "metadata": {},
   "outputs": [
    {
     "data": {
      "text/plain": [
       "0.6923076923076921"
      ]
     },
     "execution_count": 7,
     "metadata": {},
     "output_type": "execute_result"
    }
   ],
   "source": [
    "slider.x"
   ]
  },
  {
   "cell_type": "code",
   "execution_count": 8,
   "id": "1ee40ca8-e3c3-4649-b6ce-05287f411ca6",
   "metadata": {},
   "outputs": [
    {
     "data": {
      "text/plain": [
       "0.8692307692307693"
      ]
     },
     "execution_count": 8,
     "metadata": {},
     "output_type": "execute_result"
    }
   ],
   "source": [
    "slider.y"
   ]
  },
  {
   "cell_type": "code",
   "execution_count": 11,
   "id": "6f017af2-52b0-4310-aa61-d48a300ffd30",
   "metadata": {},
   "outputs": [
    {
     "data": {
      "application/vnd.jupyter.widget-view+json": {
       "model_id": "42cac189a3f643b18af59245260e8acb",
       "version_major": 2,
       "version_minor": 0
      },
      "text/plain": [
       "HBox(children=(Slider2D(height=300, width=300), Output()))"
      ]
     },
     "execution_count": 11,
     "metadata": {},
     "output_type": "execute_result"
    }
   ],
   "source": [
    "import ipywidgets\n",
    "from wigglystuff import Slider2D\n",
    "\n",
    "widget = Slider2D()\n",
    "output = ipywidgets.Output()\n",
    "state = [[0.0, 0.0]]\n",
    "\n",
    "@output.capture(clear_output=True)\n",
    "def on_change(change):\n",
    "    if abs(widget.x - state[-1][0]) > 0.01:\n",
    "        if abs(widget.y - state[-1][1]) > 0.01:\n",
    "            state.append([widget.x, widget.y])\n",
    "    for elem in state[-15:]:\n",
    "        print(elem)\n",
    "\n",
    "widget.observe(on_change)\n",
    "on_change(None)\n",
    "ipywidgets.HBox([widget, output])"
   ]
  },
  {
   "cell_type": "code",
   "execution_count": null,
   "id": "0d098452-e0db-44bc-8b86-f7bf278a7ec6",
   "metadata": {},
   "outputs": [],
   "source": []
  }
 ],
 "metadata": {
  "kernelspec": {
   "display_name": "Python 3 (ipykernel)",
   "language": "python",
   "name": "python3"
  },
  "language_info": {
   "codemirror_mode": {
    "name": "ipython",
    "version": 3
   },
   "file_extension": ".py",
   "mimetype": "text/x-python",
   "name": "python",
   "nbconvert_exporter": "python",
   "pygments_lexer": "ipython3",
   "version": "3.10.14"
  }
 },
 "nbformat": 4,
 "nbformat_minor": 5
}
