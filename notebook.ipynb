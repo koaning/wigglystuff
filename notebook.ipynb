{
 "cells": [
  {
   "cell_type": "code",
   "execution_count": 1,
   "id": "2eb5e2f9-4a19-4fdf-b320-ef9b920f5911",
   "metadata": {},
   "outputs": [],
   "source": [
    "%load_ext autoreload\n",
    "%autoreload 2"
   ]
  },
  {
   "cell_type": "code",
   "execution_count": 128,
   "id": "9dfa1674-113f-4a90-bfb4-d668dd75df40",
   "metadata": {},
   "outputs": [],
   "source": [
    "import anywidget\n",
    "from pathlib import Path\n",
    "import traitlets\n",
    "\n",
    "class Matrix(anywidget.AnyWidget):\n",
    "    \"\"\"\n",
    "    A very small excel experience for some quick number entry\n",
    "    \"\"\"\n",
    "    _esm = Path(\"wigglystuff\") / 'static' / 'matrix.js'\n",
    "    _css = Path(\"wigglystuff\") / 'static' / 'matrix.css'\n",
    "    rows = traitlets.Int(3).tag(sync=True)\n",
    "    cols = traitlets.Int(3).tag(sync=True)\n",
    "    min_value = traitlets.Float(-100.0).tag(sync=True)\n",
    "    max_value = traitlets.Float(100.0).tag(sync=True)\n",
    "    step = traitlets.Float(1.0).tag(sync=True)\n",
    "    triangular = traitlets.Bool(False).tag(sync=True)\n",
    "    matrix = traitlets.List([]).tag(sync=True)\n",
    "\n",
    "    def __init__(self, matrix=None, rows=3, cols=3, min_value=-100, max_value=100, triangular=False, **kwargs):\n",
    "        # if triangular and (rows != cols):\n",
    "        #     raise ValueError(\"triangular setting is only meant for square matrices\")\n",
    "        if matrix:\n",
    "            matrix = np.array(matrix)\n",
    "            rows, cols = matrix.shape\n",
    "            matrix = matrix.to_list()\n",
    "        else:\n",
    "            matrix = [[(min_value + max_value) / 2 for i in range(cols)] for j in range(rows)]\n",
    "        super().__init__(matrix=matrix, rows=rows, cols=cols, triangular=triangular, **kwargs)\n"
   ]
  },
  {
   "cell_type": "code",
   "execution_count": 137,
   "id": "eca28d66-3bf1-44be-9832-a74bc4f2584b",
   "metadata": {},
   "outputs": [],
   "source": [
    "m = Matrix(rows=4, cols=2, triangular=True)"
   ]
  },
  {
   "cell_type": "code",
   "execution_count": 138,
   "id": "9385e6ec-d9da-472d-ae59-88aa58605a22",
   "metadata": {},
   "outputs": [
    {
     "data": {
      "application/vnd.jupyter.widget-view+json": {
       "model_id": "4c7d090b48b0462d8555366c786c28b5",
       "version_major": 2,
       "version_minor": 1
      },
      "text/plain": [
       "Matrix(cols=2, matrix=[[0.0, 0.0], [0.0, 0.0], [0.0, 0.0], [0.0, 0.0]], rows=4, triangular=True)"
      ]
     },
     "execution_count": 138,
     "metadata": {},
     "output_type": "execute_result"
    }
   ],
   "source": [
    "m"
   ]
  },
  {
   "cell_type": "code",
   "execution_count": 141,
   "id": "bf65ac56-aa53-447d-a581-e6958529b759",
   "metadata": {},
   "outputs": [
    {
     "data": {
      "text/plain": [
       "array([[-33,  31],\n",
       "       [ 31,  44],\n",
       "       [  0, -40],\n",
       "       [  0,   0]])"
      ]
     },
     "execution_count": 141,
     "metadata": {},
     "output_type": "execute_result"
    }
   ],
   "source": [
    "import numpy as np \n",
    "np.array(m.matrix)"
   ]
  },
  {
   "cell_type": "code",
   "execution_count": 16,
   "id": "2ae2042e-97fa-4ac2-8329-30df9e16c676",
   "metadata": {},
   "outputs": [
    {
     "data": {
      "application/vnd.jupyter.widget-view+json": {
       "model_id": "be6fa0363ce64c7cb2c82141b10f08c5",
       "version_major": 2,
       "version_minor": 1
      },
      "text/plain": [
       "Slider2D()"
      ]
     },
     "execution_count": 16,
     "metadata": {},
     "output_type": "execute_result"
    }
   ],
   "source": [
    "from wigglystuff import Slider2D\n",
    "Slider2D()"
   ]
  }
 ],
 "metadata": {
  "kernelspec": {
   "display_name": "Python 3 (ipykernel)",
   "language": "python",
   "name": "python3"
  },
  "language_info": {
   "codemirror_mode": {
    "name": "ipython",
    "version": 3
   },
   "file_extension": ".py",
   "mimetype": "text/x-python",
   "name": "python",
   "nbconvert_exporter": "python",
   "pygments_lexer": "ipython3",
   "version": "3.12.1"
  }
 },
 "nbformat": 4,
 "nbformat_minor": 5
}
