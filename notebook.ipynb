{
 "cells": [
  {
   "cell_type": "code",
   "execution_count": 1,
   "id": "2eb5e2f9-4a19-4fdf-b320-ef9b920f5911",
   "metadata": {},
   "outputs": [],
   "source": [
    "%load_ext autoreload\n",
    "%autoreload 2"
   ]
  },
  {
   "cell_type": "code",
   "execution_count": 2,
   "id": "9dfa1674-113f-4a90-bfb4-d668dd75df40",
   "metadata": {},
   "outputs": [],
   "source": [
    "import anywidget\n",
    "from pathlib import Path\n",
    "import traitlets\n",
    "\n",
    "class Matrix(anywidget.AnyWidget):\n",
    "    \"\"\"\n",
    "    A very small excel experience for some quick number entry\n",
    "    \"\"\"\n",
    "    _esm = Path(\"wigglystuff\") / 'static' / 'matrix.js'\n",
    "    _css = Path(\"wigglystuff\") / 'static' / 'matrix.css'\n",
    "    rows = traitlets.Int(3).tag(sync=True)\n",
    "    cols = traitlets.Int(3).tag(sync=True)\n",
    "    min_value = traitlets.Float(-100.0).tag(sync=True)\n",
    "    max_value = traitlets.Float(100.0).tag(sync=True)\n",
    "    step = traitlets.Float(1.0).tag(sync=True)\n",
    "    triangular = traitlets.Bool(False).tag(sync=True)\n",
    "    matrix = traitlets.List([]).tag(sync=True)\n",
    "\n",
    "    def __init__(self, matrix=None, rows=3, cols=3, min_value=-100, max_value=100, triangular=False, **kwargs):\n",
    "        # if triangular and (rows != cols):\n",
    "        #     raise ValueError(\"triangular setting is only meant for square matrices\")\n",
    "        if matrix:\n",
    "            matrix = np.array(matrix)\n",
    "            rows, cols = matrix.shape\n",
    "            matrix = matrix.to_list()\n",
    "        else:\n",
    "            matrix = [[(min_value + max_value) / 2 for i in range(cols)] for j in range(rows)]\n",
    "        super().__init__(matrix=matrix, rows=rows, cols=cols, triangular=triangular, **kwargs)\n"
   ]
  },
  {
   "cell_type": "code",
   "execution_count": 3,
   "id": "eca28d66-3bf1-44be-9832-a74bc4f2584b",
   "metadata": {},
   "outputs": [],
   "source": [
    "m = Matrix(rows=4, cols=2, triangular=True)"
   ]
  },
  {
   "cell_type": "code",
   "execution_count": 4,
   "id": "9385e6ec-d9da-472d-ae59-88aa58605a22",
   "metadata": {},
   "outputs": [
    {
     "data": {
      "application/vnd.jupyter.widget-view+json": {
       "model_id": "a261cd93450d46039e12bc4f47d15298",
       "version_major": 2,
       "version_minor": 1
      },
      "text/plain": [
       "Matrix(cols=2, matrix=[[0.0, 0.0], [0.0, 0.0], [0.0, 0.0], [0.0, 0.0]], rows=4, triangular=True)"
      ]
     },
     "execution_count": 4,
     "metadata": {},
     "output_type": "execute_result"
    }
   ],
   "source": [
    "m"
   ]
  },
  {
   "cell_type": "code",
   "execution_count": 5,
   "id": "bf65ac56-aa53-447d-a581-e6958529b759",
   "metadata": {},
   "outputs": [
    {
     "data": {
      "text/plain": [
       "array([[0., 0.],\n",
       "       [0., 0.],\n",
       "       [0., 0.],\n",
       "       [0., 0.]])"
      ]
     },
     "execution_count": 5,
     "metadata": {},
     "output_type": "execute_result"
    }
   ],
   "source": [
    "import numpy as np \n",
    "np.array(m.matrix)"
   ]
  },
  {
   "cell_type": "code",
   "execution_count": 6,
   "id": "2ae2042e-97fa-4ac2-8329-30df9e16c676",
   "metadata": {},
   "outputs": [
    {
     "data": {
      "application/vnd.jupyter.widget-view+json": {
       "model_id": "3acf71db8e00450c841fc7a3e524d610",
       "version_major": 2,
       "version_minor": 1
      },
      "text/plain": [
       "Slider2D()"
      ]
     },
     "execution_count": 6,
     "metadata": {},
     "output_type": "execute_result"
    }
   ],
   "source": [
    "from wigglystuff import Slider2D\n",
    "Slider2D()"
   ]
  },
  {
   "cell_type": "code",
   "execution_count": 11,
   "id": "41333b38-069e-43d7-ba6f-1e02aa0af1c4",
   "metadata": {},
   "outputs": [
    {
     "data": {
      "application/vnd.jupyter.widget-view+json": {
       "model_id": "22966591c1a44115ad235b1f06f4a25e",
       "version_major": 2,
       "version_minor": 1
      },
      "text/plain": [
       "TangleSlider()"
      ]
     },
     "execution_count": 11,
     "metadata": {},
     "output_type": "execute_result"
    }
   ],
   "source": [
    "class TangleSlider(anywidget.AnyWidget):\n",
    "    \"\"\"\n",
    "    A very small excel experience for some quick number entry\n",
    "    \"\"\"\n",
    "    _esm = Path('wigglystuff') / 'static' / 'tangle-slider.js'\n",
    "    value = traitlets.Float(0.0).tag(sync=True)\n",
    "    min_value = traitlets.Float(-100.0).tag(sync=True)\n",
    "    max_value = traitlets.Float(100.0).tag(sync=True)\n",
    "    step = traitlets.Float(1.0).tag(sync=True)\n",
    "    pixels_per_step = traitlets.Int(2).tag(sync=True)\n",
    "\n",
    "    def __init__(self, value=0.0, min_value=-100, max_value=100, step=1.0, pixels_per_step=2, **kwargs):\n",
    "        super().__init__(value=value, min_value=min_value, max_value=max_value, step=step, pixels_per_step=pixels_per_step, **kwargs)\n",
    "\n",
    "TangleSlider()"
   ]
  },
  {
   "cell_type": "code",
   "execution_count": 13,
   "id": "a277107a-52b3-48ab-b727-51cfebcdf0b8",
   "metadata": {},
   "outputs": [
    {
     "ename": "AttributeError",
     "evalue": "module 'traitlets' has no attribute 'String'",
     "output_type": "error",
     "traceback": [
      "\u001b[0;31m---------------------------------------------------------------------------\u001b[0m",
      "\u001b[0;31mAttributeError\u001b[0m                            Traceback (most recent call last)",
      "Cell \u001b[0;32mIn[13], line 1\u001b[0m\n\u001b[0;32m----> 1\u001b[0m \u001b[38;5;28;01mclass\u001b[39;00m \u001b[38;5;21;01mTangleChoice\u001b[39;00m(anywidget\u001b[38;5;241m.\u001b[39mAnyWidget):\n\u001b[1;32m      2\u001b[0m \u001b[38;5;250m    \u001b[39m\u001b[38;5;124;03m\"\"\"\u001b[39;00m\n\u001b[1;32m      3\u001b[0m \u001b[38;5;124;03m    A UI element like tangle.js but for Python to make choices. \u001b[39;00m\n\u001b[1;32m      4\u001b[0m \u001b[38;5;124;03m    \"\"\"\u001b[39;00m\n\u001b[1;32m      5\u001b[0m     _esm \u001b[38;5;241m=\u001b[39m Path(\u001b[38;5;124m\"\u001b[39m\u001b[38;5;124mwigglystuff\u001b[39m\u001b[38;5;124m\"\u001b[39m) \u001b[38;5;241m/\u001b[39m \u001b[38;5;124m'\u001b[39m\u001b[38;5;124mstatic\u001b[39m\u001b[38;5;124m'\u001b[39m \u001b[38;5;241m/\u001b[39m \u001b[38;5;124m'\u001b[39m\u001b[38;5;124mtangle-choice.js\u001b[39m\u001b[38;5;124m'\u001b[39m\n",
      "Cell \u001b[0;32mIn[13], line 6\u001b[0m, in \u001b[0;36mTangleChoice\u001b[0;34m()\u001b[0m\n\u001b[1;32m      2\u001b[0m \u001b[38;5;250m\u001b[39m\u001b[38;5;124;03m\"\"\"\u001b[39;00m\n\u001b[1;32m      3\u001b[0m \u001b[38;5;124;03mA UI element like tangle.js but for Python to make choices. \u001b[39;00m\n\u001b[1;32m      4\u001b[0m \u001b[38;5;124;03m\"\"\"\u001b[39;00m\n\u001b[1;32m      5\u001b[0m _esm \u001b[38;5;241m=\u001b[39m Path(\u001b[38;5;124m\"\u001b[39m\u001b[38;5;124mwigglystuff\u001b[39m\u001b[38;5;124m\"\u001b[39m) \u001b[38;5;241m/\u001b[39m \u001b[38;5;124m'\u001b[39m\u001b[38;5;124mstatic\u001b[39m\u001b[38;5;124m'\u001b[39m \u001b[38;5;241m/\u001b[39m \u001b[38;5;124m'\u001b[39m\u001b[38;5;124mtangle-choice.js\u001b[39m\u001b[38;5;124m'\u001b[39m\n\u001b[0;32m----> 6\u001b[0m value \u001b[38;5;241m=\u001b[39m \u001b[43mtraitlets\u001b[49m\u001b[38;5;241;43m.\u001b[39;49m\u001b[43mString\u001b[49m(\u001b[38;5;124m\"\u001b[39m\u001b[38;5;124m\"\u001b[39m)\u001b[38;5;241m.\u001b[39mtag(sync\u001b[38;5;241m=\u001b[39m\u001b[38;5;28;01mTrue\u001b[39;00m)\n\u001b[1;32m      7\u001b[0m choices \u001b[38;5;241m=\u001b[39m traitlets\u001b[38;5;241m.\u001b[39mList([])\u001b[38;5;241m.\u001b[39mtag(sync\u001b[38;5;241m=\u001b[39m\u001b[38;5;28;01mTrue\u001b[39;00m)\n\u001b[1;32m      9\u001b[0m \u001b[38;5;28;01mdef\u001b[39;00m \u001b[38;5;21m__init__\u001b[39m(\u001b[38;5;28mself\u001b[39m, value\u001b[38;5;241m=\u001b[39m\u001b[38;5;124m\"\u001b[39m\u001b[38;5;124m\"\u001b[39m, choices\u001b[38;5;241m=\u001b[39m[], \u001b[38;5;241m*\u001b[39m\u001b[38;5;241m*\u001b[39mkwargs):\n",
      "\u001b[0;31mAttributeError\u001b[0m: module 'traitlets' has no attribute 'String'"
     ]
    }
   ],
   "source": [
    "class TangleChoice(anywidget.AnyWidget):\n",
    "    \"\"\"\n",
    "    A UI element like tangle.js but for Python to make choices. \n",
    "    \"\"\"\n",
    "    _esm = Path(\"wigglystuff\") / 'static' / 'tangle-choice.js'\n",
    "    value = traitlets.(\"\").tag(sync=True)\n",
    "    choices = traitlets.List([]).tag(sync=True)\n",
    "\n",
    "    def __init__(self, value=\"\", choices=[], **kwargs):\n",
    "        super().__init__(value=value, choices=choices, **kwargs)\n",
    "\n",
    "TangleChoice()"
   ]
  },
  {
   "cell_type": "code",
   "execution_count": null,
   "id": "160e3522-f81a-486d-a1b0-a189bba6398e",
   "metadata": {},
   "outputs": [],
   "source": []
  }
 ],
 "metadata": {
  "kernelspec": {
   "display_name": "Python 3 (ipykernel)",
   "language": "python",
   "name": "python3"
  },
  "language_info": {
   "codemirror_mode": {
    "name": "ipython",
    "version": 3
   },
   "file_extension": ".py",
   "mimetype": "text/x-python",
   "name": "python",
   "nbconvert_exporter": "python",
   "pygments_lexer": "ipython3",
   "version": "3.10.14"
  }
 },
 "nbformat": 4,
 "nbformat_minor": 5
}
